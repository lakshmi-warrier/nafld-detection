{
 "cells": [
  {
   "cell_type": "code",
   "execution_count": 1,
   "metadata": {},
   "outputs": [],
   "source": [
    "import joblib\n",
    "\n",
    "data_records = joblib.load(\"data_records.pkl\")"
   ]
  },
  {
   "cell_type": "code",
   "execution_count": 2,
   "metadata": {},
   "outputs": [],
   "source": [
    "import numpy as np\n",
    "\n",
    "\n",
    "# Define a function to assign labels based on fat percentage ranges\n",
    "def assign_label(fat_percent):\n",
    "    if fat_percent <= 5:\n",
    "        return 0  # Label for fat percentage range 0-5\n",
    "    elif fat_percent <= 33:\n",
    "        return 1  # Label for fat percentage range 5-33\n",
    "    elif fat_percent <= 66:\n",
    "        return 2  # Label for fat percentage range 33-66\n",
    "    else:\n",
    "        return 3  # Label for fat percentage >66"
   ]
  },
  {
   "cell_type": "code",
   "execution_count": 8,
   "metadata": {},
   "outputs": [],
   "source": [
    "def create_rgb(image):\n",
    "    return np.stack((image,) * 3, axis=-1)"
   ]
  },
  {
   "cell_type": "code",
   "execution_count": 3,
   "metadata": {},
   "outputs": [],
   "source": [
    "data_records['grade'] = np.vectorize(assign_label)(data_records['fat'])"
   ]
  },
  {
   "cell_type": "code",
   "execution_count": 9,
   "metadata": {},
   "outputs": [],
   "source": [
    "X = data_records[\"images\"]\n",
    "X = np.array([create_rgb(img) for img in X])\n",
    "\n",
    "y = np.array(data_records['grade'])"
   ]
  },
  {
   "cell_type": "code",
   "execution_count": 10,
   "metadata": {},
   "outputs": [],
   "source": [
    "from sklearn.model_selection import train_test_split\n",
    "\n",
    "\n",
    "X_train, X_test, y_train, y_test = train_test_split(\n",
    "    X, y, test_size=0.33, random_state=42, stratify=y\n",
    ")"
   ]
  },
  {
   "cell_type": "code",
   "execution_count": 11,
   "metadata": {},
   "outputs": [
    {
     "name": "stdout",
     "output_type": "stream",
     "text": [
      "(400, 630, 3)\n"
     ]
    }
   ],
   "source": [
    "print(X_train[0].shape)"
   ]
  },
  {
   "cell_type": "code",
   "execution_count": 12,
   "metadata": {},
   "outputs": [
    {
     "name": "stdout",
     "output_type": "stream",
     "text": [
      "WARNING:tensorflow:From c:\\Users\\LWARRIER\\AppData\\Local\\Programs\\Python\\Python311\\Lib\\site-packages\\keras\\src\\losses.py:2976: The name tf.losses.sparse_softmax_cross_entropy is deprecated. Please use tf.compat.v1.losses.sparse_softmax_cross_entropy instead.\n",
      "\n"
     ]
    }
   ],
   "source": [
    "from sklearn import preprocessing\n",
    "import tensorflow as tf\n",
    "\n",
    "\n",
    "le = preprocessing.LabelEncoder()\n",
    "y_train = le.fit_transform(y_train)\n",
    "y_test = le.fit_transform(y_test)"
   ]
  },
  {
   "cell_type": "code",
   "execution_count": 13,
   "metadata": {},
   "outputs": [],
   "source": [
    "y_train = tf.keras.utils.to_categorical(y_train, num_classes=4)\n",
    "\n",
    "y_test = tf.keras.utils.to_categorical(y_test, num_classes=4)\n",
    "\n",
    "y_train = np.array(y_train)\n",
    "X_train = np.array(X_train)\n",
    "y_test = np.array(y_test)\n",
    "X_test = np.array(X_test)"
   ]
  },
  {
   "cell_type": "code",
   "execution_count": 14,
   "metadata": {},
   "outputs": [
    {
     "data": {
      "text/plain": [
       "(182, 400, 630, 3)"
      ]
     },
     "execution_count": 14,
     "metadata": {},
     "output_type": "execute_result"
    }
   ],
   "source": [
    "X_test.shape"
   ]
  },
  {
   "cell_type": "code",
   "execution_count": 15,
   "metadata": {},
   "outputs": [
    {
     "name": "stdout",
     "output_type": "stream",
     "text": [
      "WARNING:tensorflow:From c:\\Users\\LWARRIER\\AppData\\Local\\Programs\\Python\\Python311\\Lib\\site-packages\\keras\\src\\backend.py:1398: The name tf.executing_eagerly_outside_functions is deprecated. Please use tf.compat.v1.executing_eagerly_outside_functions instead.\n",
      "\n",
      "WARNING:tensorflow:From c:\\Users\\LWARRIER\\AppData\\Local\\Programs\\Python\\Python311\\Lib\\site-packages\\keras\\src\\layers\\pooling\\max_pooling2d.py:161: The name tf.nn.max_pool is deprecated. Please use tf.nn.max_pool2d instead.\n",
      "\n"
     ]
    }
   ],
   "source": [
    "from keras.applications import vgg16\n",
    "\n",
    "img_rows, img_cols = (400, 630)\n",
    "\n",
    "vgg = vgg16.VGG16(\n",
    "    weights=\"imagenet\", include_top=False, input_shape=(img_rows, img_cols, 3)\n",
    ")"
   ]
  },
  {
   "cell_type": "code",
   "execution_count": 16,
   "metadata": {},
   "outputs": [
    {
     "name": "stdout",
     "output_type": "stream",
     "text": [
      "0 InputLayer False\n",
      "1 Conv2D False\n",
      "2 Conv2D False\n",
      "3 MaxPooling2D False\n",
      "4 Conv2D False\n",
      "5 Conv2D False\n",
      "6 MaxPooling2D False\n",
      "7 Conv2D False\n",
      "8 Conv2D False\n",
      "9 Conv2D False\n",
      "10 MaxPooling2D False\n",
      "11 Conv2D False\n",
      "12 Conv2D False\n",
      "13 Conv2D False\n",
      "14 MaxPooling2D False\n",
      "15 Conv2D False\n",
      "16 Conv2D False\n",
      "17 Conv2D False\n",
      "18 MaxPooling2D False\n"
     ]
    }
   ],
   "source": [
    "# Here we freeze the last 4 layers\n",
    "# Layers are set to trainable as True by default\n",
    "for layer in vgg.layers:\n",
    "    layer.trainable = False\n",
    "\n",
    "# Let's print our layers\n",
    "for i, layer in enumerate(vgg.layers):\n",
    "    print(str(i) + \" \" + layer.__class__.__name__, layer.trainable)"
   ]
  },
  {
   "cell_type": "code",
   "execution_count": 17,
   "metadata": {},
   "outputs": [],
   "source": [
    "from keras.layers import Dense, GlobalAveragePooling2D\n",
    "\n",
    "\n",
    "def lw(bottom_model, num_classes):\n",
    "\n",
    "    top_model = bottom_model.output\n",
    "    top_model = GlobalAveragePooling2D()(top_model)\n",
    "    top_model = Dense(1024, activation=\"relu\")(top_model)\n",
    "    top_model = Dense(1024, activation=\"relu\")(top_model)\n",
    "    top_model = Dense(512, activation=\"relu\")(top_model)\n",
    "    top_model = Dense(num_classes, activation=\"softmax\")(top_model)\n",
    "    return top_model"
   ]
  },
  {
   "cell_type": "code",
   "execution_count": 18,
   "metadata": {},
   "outputs": [
    {
     "name": "stdout",
     "output_type": "stream",
     "text": [
      "Model: \"model\"\n",
      "_________________________________________________________________\n",
      " Layer (type)                Output Shape              Param #   \n",
      "=================================================================\n",
      " input_1 (InputLayer)        [(None, 400, 630, 3)]     0         \n",
      "                                                                 \n",
      " block1_conv1 (Conv2D)       (None, 400, 630, 64)      1792      \n",
      "                                                                 \n",
      " block1_conv2 (Conv2D)       (None, 400, 630, 64)      36928     \n",
      "                                                                 \n",
      " block1_pool (MaxPooling2D)  (None, 200, 315, 64)      0         \n",
      "                                                                 \n",
      " block2_conv1 (Conv2D)       (None, 200, 315, 128)     73856     \n",
      "                                                                 \n",
      " block2_conv2 (Conv2D)       (None, 200, 315, 128)     147584    \n",
      "                                                                 \n",
      " block2_pool (MaxPooling2D)  (None, 100, 157, 128)     0         \n",
      "                                                                 \n",
      " block3_conv1 (Conv2D)       (None, 100, 157, 256)     295168    \n",
      "                                                                 \n",
      " block3_conv2 (Conv2D)       (None, 100, 157, 256)     590080    \n",
      "                                                                 \n",
      " block3_conv3 (Conv2D)       (None, 100, 157, 256)     590080    \n",
      "                                                                 \n",
      " block3_pool (MaxPooling2D)  (None, 50, 78, 256)       0         \n",
      "                                                                 \n",
      " block4_conv1 (Conv2D)       (None, 50, 78, 512)       1180160   \n",
      "                                                                 \n",
      " block4_conv2 (Conv2D)       (None, 50, 78, 512)       2359808   \n",
      "                                                                 \n",
      " block4_conv3 (Conv2D)       (None, 50, 78, 512)       2359808   \n",
      "                                                                 \n",
      " block4_pool (MaxPooling2D)  (None, 25, 39, 512)       0         \n",
      "                                                                 \n",
      " block5_conv1 (Conv2D)       (None, 25, 39, 512)       2359808   \n",
      "                                                                 \n",
      " block5_conv2 (Conv2D)       (None, 25, 39, 512)       2359808   \n",
      "                                                                 \n",
      " block5_conv3 (Conv2D)       (None, 25, 39, 512)       2359808   \n",
      "                                                                 \n",
      " block5_pool (MaxPooling2D)  (None, 12, 19, 512)       0         \n",
      "                                                                 \n",
      " global_average_pooling2d (  (None, 512)               0         \n",
      " GlobalAveragePooling2D)                                         \n",
      "                                                                 \n",
      " dense (Dense)               (None, 1024)              525312    \n",
      "                                                                 \n",
      " dense_1 (Dense)             (None, 1024)              1049600   \n",
      "                                                                 \n",
      " dense_2 (Dense)             (None, 512)               524800    \n",
      "                                                                 \n",
      " dense_3 (Dense)             (None, 4)                 2052      \n",
      "                                                                 \n",
      "=================================================================\n",
      "Total params: 16816452 (64.15 MB)\n",
      "Trainable params: 2101764 (8.02 MB)\n",
      "Non-trainable params: 14714688 (56.13 MB)\n",
      "_________________________________________________________________\n",
      "None\n"
     ]
    }
   ],
   "source": [
    "from keras.models import Model\n",
    "\n",
    "\n",
    "num_classes = 4\n",
    "\n",
    "FC_Head = lw(vgg, num_classes)\n",
    "\n",
    "model = Model(inputs=vgg.input, outputs=FC_Head)\n",
    "\n",
    "print(model.summary())"
   ]
  },
  {
   "cell_type": "code",
   "execution_count": 33,
   "metadata": {},
   "outputs": [
    {
     "name": "stdout",
     "output_type": "stream",
     "text": [
      "Epoch 1/5\n",
      "14/14 [==============================] - 125s 9s/step - loss: 0.9639 - accuracy: 0.5977 - val_loss: 0.8603 - val_accuracy: 0.6909\n",
      "Epoch 2/5\n",
      "14/14 [==============================] - 130s 9s/step - loss: 0.6627 - accuracy: 0.7227 - val_loss: 0.7183 - val_accuracy: 0.6727\n",
      "Epoch 3/5\n",
      "14/14 [==============================] - 130s 9s/step - loss: 0.6143 - accuracy: 0.7409 - val_loss: 0.7507 - val_accuracy: 0.6636\n",
      "Epoch 4/5\n",
      "14/14 [==============================] - 130s 9s/step - loss: 0.5187 - accuracy: 0.7909 - val_loss: 0.8426 - val_accuracy: 0.6364\n",
      "Epoch 5/5\n",
      "14/14 [==============================] - 133s 10s/step - loss: 0.3580 - accuracy: 0.8659 - val_loss: 0.8557 - val_accuracy: 0.6818\n"
     ]
    }
   ],
   "source": [
    "model.compile(optimizer=\"adam\", loss=\"categorical_crossentropy\", metrics=[\"accuracy\"])\n",
    "history = model.fit(\n",
    "    X_train,\n",
    "    y_train,\n",
    "    epochs=5,\n",
    "    validation_data=(X_test, y_test),\n",
    "    verbose=1,\n",
    "    initial_epoch=0,\n",
    ")"
   ]
  },
  {
   "cell_type": "code",
   "execution_count": 34,
   "metadata": {},
   "outputs": [
    {
     "name": "stdout",
     "output_type": "stream",
     "text": [
      "4/4 [==============================] - 26s 6s/step\n",
      "Confusion Matrix:\n",
      "[[32  4  0  0]\n",
      " [11 26  0  1]\n",
      " [ 3  8  0  5]\n",
      " [ 1  2  0 17]]\n",
      "\n",
      "Classification Report:\n",
      "              precision    recall  f1-score   support\n",
      "\n",
      "           0       0.68      0.89      0.77        36\n",
      "           1       0.65      0.68      0.67        38\n",
      "           2       0.00      0.00      0.00        16\n",
      "           3       0.74      0.85      0.79        20\n",
      "\n",
      "    accuracy                           0.68       110\n",
      "   macro avg       0.52      0.61      0.56       110\n",
      "weighted avg       0.58      0.68      0.63       110\n",
      "\n",
      "\n",
      "Accuracy: 0.6818181818181818\n"
     ]
    },
    {
     "name": "stderr",
     "output_type": "stream",
     "text": [
      "c:\\Users\\LWARRIER\\AppData\\Local\\Programs\\Python\\Python311\\Lib\\site-packages\\sklearn\\metrics\\_classification.py:1497: UndefinedMetricWarning: Precision is ill-defined and being set to 0.0 in labels with no predicted samples. Use `zero_division` parameter to control this behavior.\n",
      "  _warn_prf(average, modifier, f\"{metric.capitalize()} is\", len(result))\n",
      "c:\\Users\\LWARRIER\\AppData\\Local\\Programs\\Python\\Python311\\Lib\\site-packages\\sklearn\\metrics\\_classification.py:1497: UndefinedMetricWarning: Precision is ill-defined and being set to 0.0 in labels with no predicted samples. Use `zero_division` parameter to control this behavior.\n",
      "  _warn_prf(average, modifier, f\"{metric.capitalize()} is\", len(result))\n",
      "c:\\Users\\LWARRIER\\AppData\\Local\\Programs\\Python\\Python311\\Lib\\site-packages\\sklearn\\metrics\\_classification.py:1497: UndefinedMetricWarning: Precision is ill-defined and being set to 0.0 in labels with no predicted samples. Use `zero_division` parameter to control this behavior.\n",
      "  _warn_prf(average, modifier, f\"{metric.capitalize()} is\", len(result))\n"
     ]
    }
   ],
   "source": [
    "from sklearn.metrics import confusion_matrix, classification_report, accuracy_score\n",
    "\n",
    "# Get predictions on test data\n",
    "y_pred = model.predict(X_test)\n",
    "\n",
    "# Convert predictions to class labels\n",
    "y_pred_labels = np.argmax(y_pred, axis=1)\n",
    "y_true_labels = np.argmax(y_test, axis=1)\n",
    "\n",
    "# Compute confusion matrix\n",
    "conf_matrix = confusion_matrix(y_true_labels, y_pred_labels)\n",
    "\n",
    "# Compute classification report\n",
    "class_report = classification_report(y_true_labels, y_pred_labels)\n",
    "\n",
    "# Compute accuracy\n",
    "accuracy = accuracy_score(y_true_labels, y_pred_labels)\n",
    "\n",
    "print(\"Confusion Matrix:\")\n",
    "print(conf_matrix)\n",
    "print(\"\\nClassification Report:\")\n",
    "print(class_report)\n",
    "print(\"\\nAccuracy:\", accuracy)\n"
   ]
  },
  {
   "cell_type": "code",
   "execution_count": 21,
   "metadata": {},
   "outputs": [],
   "source": [
    "from sklearn.model_selection import train_test_split\n",
    "\n",
    "\n",
    "X_train, X_test, y_train, y_test = train_test_split(\n",
    "    X, y, test_size=0.2, random_state=42, stratify=y\n",
    ")"
   ]
  },
  {
   "cell_type": "code",
   "execution_count": 22,
   "metadata": {},
   "outputs": [
    {
     "name": "stdout",
     "output_type": "stream",
     "text": [
      "(400, 630, 3)\n"
     ]
    }
   ],
   "source": [
    "print(X_train[0].shape)"
   ]
  },
  {
   "cell_type": "code",
   "execution_count": 23,
   "metadata": {},
   "outputs": [],
   "source": [
    "from sklearn import preprocessing\n",
    "import tensorflow as tf\n",
    "\n",
    "\n",
    "le = preprocessing.LabelEncoder()\n",
    "y_train = le.fit_transform(y_train)\n",
    "y_test = le.fit_transform(y_test)"
   ]
  },
  {
   "cell_type": "code",
   "execution_count": 24,
   "metadata": {},
   "outputs": [],
   "source": [
    "y_train = tf.keras.utils.to_categorical(y_train, num_classes=4)\n",
    "\n",
    "y_test = tf.keras.utils.to_categorical(y_test, num_classes=4)\n",
    "\n",
    "y_train = np.array(y_train)\n",
    "X_train = np.array(X_train)\n",
    "y_test = np.array(y_test)\n",
    "X_test = np.array(X_test)"
   ]
  },
  {
   "cell_type": "code",
   "execution_count": 25,
   "metadata": {},
   "outputs": [
    {
     "data": {
      "text/plain": [
       "(110, 400, 630, 3)"
      ]
     },
     "execution_count": 25,
     "metadata": {},
     "output_type": "execute_result"
    }
   ],
   "source": [
    "X_test.shape"
   ]
  },
  {
   "cell_type": "code",
   "execution_count": 26,
   "metadata": {},
   "outputs": [],
   "source": [
    "from keras.applications import vgg16\n",
    "\n",
    "img_rows, img_cols = (400, 630)\n",
    "\n",
    "vgg = vgg16.VGG16(\n",
    "    weights=\"imagenet\", include_top=False, input_shape=(img_rows, img_cols, 3)\n",
    ")"
   ]
  },
  {
   "cell_type": "code",
   "execution_count": 27,
   "metadata": {},
   "outputs": [
    {
     "name": "stdout",
     "output_type": "stream",
     "text": [
      "0 InputLayer False\n",
      "1 Conv2D False\n",
      "2 Conv2D False\n",
      "3 MaxPooling2D False\n",
      "4 Conv2D False\n",
      "5 Conv2D False\n",
      "6 MaxPooling2D False\n",
      "7 Conv2D False\n",
      "8 Conv2D False\n",
      "9 Conv2D False\n",
      "10 MaxPooling2D False\n",
      "11 Conv2D False\n",
      "12 Conv2D False\n",
      "13 Conv2D False\n",
      "14 MaxPooling2D False\n",
      "15 Conv2D False\n",
      "16 Conv2D False\n",
      "17 Conv2D False\n",
      "18 MaxPooling2D False\n"
     ]
    }
   ],
   "source": [
    "# Here we freeze the last 4 layers\n",
    "# Layers are set to trainable as True by default\n",
    "for layer in vgg.layers:\n",
    "    layer.trainable = False\n",
    "\n",
    "# Let's print our layers\n",
    "for i, layer in enumerate(vgg.layers):\n",
    "    print(str(i) + \" \" + layer.__class__.__name__, layer.trainable)"
   ]
  },
  {
   "cell_type": "code",
   "execution_count": 28,
   "metadata": {},
   "outputs": [],
   "source": [
    "from keras.layers import Dense, GlobalAveragePooling2D\n",
    "\n",
    "\n",
    "def lw(bottom_model, num_classes):\n",
    "\n",
    "    top_model = bottom_model.output\n",
    "    top_model = GlobalAveragePooling2D()(top_model)\n",
    "    top_model = Dense(1024, activation=\"relu\")(top_model)\n",
    "    top_model = Dense(1024, activation=\"relu\")(top_model)\n",
    "    top_model = Dense(512, activation=\"relu\")(top_model)\n",
    "    top_model = Dense(num_classes, activation=\"softmax\")(top_model)\n",
    "    return top_model"
   ]
  },
  {
   "cell_type": "code",
   "execution_count": 29,
   "metadata": {},
   "outputs": [
    {
     "name": "stdout",
     "output_type": "stream",
     "text": [
      "Model: \"model_1\"\n",
      "_________________________________________________________________\n",
      " Layer (type)                Output Shape              Param #   \n",
      "=================================================================\n",
      " input_2 (InputLayer)        [(None, 400, 630, 3)]     0         \n",
      "                                                                 \n",
      " block1_conv1 (Conv2D)       (None, 400, 630, 64)      1792      \n",
      "                                                                 \n",
      " block1_conv2 (Conv2D)       (None, 400, 630, 64)      36928     \n",
      "                                                                 \n",
      " block1_pool (MaxPooling2D)  (None, 200, 315, 64)      0         \n",
      "                                                                 \n",
      " block2_conv1 (Conv2D)       (None, 200, 315, 128)     73856     \n",
      "                                                                 \n",
      " block2_conv2 (Conv2D)       (None, 200, 315, 128)     147584    \n",
      "                                                                 \n",
      " block2_pool (MaxPooling2D)  (None, 100, 157, 128)     0         \n",
      "                                                                 \n",
      " block3_conv1 (Conv2D)       (None, 100, 157, 256)     295168    \n",
      "                                                                 \n",
      " block3_conv2 (Conv2D)       (None, 100, 157, 256)     590080    \n",
      "                                                                 \n",
      " block3_conv3 (Conv2D)       (None, 100, 157, 256)     590080    \n",
      "                                                                 \n",
      " block3_pool (MaxPooling2D)  (None, 50, 78, 256)       0         \n",
      "                                                                 \n",
      " block4_conv1 (Conv2D)       (None, 50, 78, 512)       1180160   \n",
      "                                                                 \n",
      " block4_conv2 (Conv2D)       (None, 50, 78, 512)       2359808   \n",
      "                                                                 \n",
      " block4_conv3 (Conv2D)       (None, 50, 78, 512)       2359808   \n",
      "                                                                 \n",
      " block4_pool (MaxPooling2D)  (None, 25, 39, 512)       0         \n",
      "                                                                 \n",
      " block5_conv1 (Conv2D)       (None, 25, 39, 512)       2359808   \n",
      "                                                                 \n",
      " block5_conv2 (Conv2D)       (None, 25, 39, 512)       2359808   \n",
      "                                                                 \n",
      " block5_conv3 (Conv2D)       (None, 25, 39, 512)       2359808   \n",
      "                                                                 \n",
      " block5_pool (MaxPooling2D)  (None, 12, 19, 512)       0         \n",
      "                                                                 \n",
      " global_average_pooling2d_1  (None, 512)               0         \n",
      "  (GlobalAveragePooling2D)                                       \n",
      "                                                                 \n",
      " dense_4 (Dense)             (None, 1024)              525312    \n",
      "                                                                 \n",
      " dense_5 (Dense)             (None, 1024)              1049600   \n",
      "                                                                 \n",
      " dense_6 (Dense)             (None, 512)               524800    \n",
      "                                                                 \n",
      " dense_7 (Dense)             (None, 4)                 2052      \n",
      "                                                                 \n",
      "=================================================================\n",
      "Total params: 16816452 (64.15 MB)\n",
      "Trainable params: 2101764 (8.02 MB)\n",
      "Non-trainable params: 14714688 (56.13 MB)\n",
      "_________________________________________________________________\n",
      "None\n"
     ]
    }
   ],
   "source": [
    "from keras.models import Model\n",
    "\n",
    "\n",
    "num_classes = 4\n",
    "\n",
    "FC_Head = lw(vgg, num_classes)\n",
    "\n",
    "model = Model(inputs=vgg.input, outputs=FC_Head)\n",
    "\n",
    "print(model.summary())"
   ]
  },
  {
   "cell_type": "code",
   "execution_count": 30,
   "metadata": {},
   "outputs": [
    {
     "name": "stdout",
     "output_type": "stream",
     "text": [
      "Epoch 1/5\n",
      "14/14 [==============================] - 521s 37s/step - loss: 1.6637 - accuracy: 0.3386 - val_loss: 1.1931 - val_accuracy: 0.4636\n",
      "Epoch 2/5\n",
      "14/14 [==============================] - 689s 50s/step - loss: 1.1429 - accuracy: 0.4864 - val_loss: 1.0578 - val_accuracy: 0.5636\n",
      "Epoch 3/5\n",
      "14/14 [==============================] - 552s 39s/step - loss: 1.0331 - accuracy: 0.5091 - val_loss: 0.9938 - val_accuracy: 0.6091\n",
      "Epoch 4/5\n",
      "14/14 [==============================] - 489s 36s/step - loss: 0.8651 - accuracy: 0.6273 - val_loss: 0.8834 - val_accuracy: 0.6091\n",
      "Epoch 5/5\n",
      "14/14 [==============================] - 165s 12s/step - loss: 0.8490 - accuracy: 0.5955 - val_loss: 0.7771 - val_accuracy: 0.6727\n"
     ]
    }
   ],
   "source": [
    "model.compile(optimizer=\"adam\", loss=\"categorical_crossentropy\", metrics=[\"accuracy\"])\n",
    "history = model.fit(\n",
    "    X_train,\n",
    "    y_train,\n",
    "    epochs=5,\n",
    "    validation_data=(X_test, y_test),\n",
    "    verbose=1,\n",
    "    initial_epoch=0,\n",
    ")"
   ]
  },
  {
   "cell_type": "code",
   "execution_count": 31,
   "metadata": {},
   "outputs": [
    {
     "name": "stdout",
     "output_type": "stream",
     "text": [
      "4/4 [==============================] - 40s 11s/step\n",
      "Confusion Matrix:\n",
      "[[26  9  1  0]\n",
      " [ 2 35  0  1]\n",
      " [ 0 10  0  6]\n",
      " [ 0  7  0 13]]\n",
      "\n",
      "Classification Report:\n",
      "              precision    recall  f1-score   support\n",
      "\n",
      "           0       0.93      0.72      0.81        36\n",
      "           1       0.57      0.92      0.71        38\n",
      "           2       0.00      0.00      0.00        16\n",
      "           3       0.65      0.65      0.65        20\n",
      "\n",
      "    accuracy                           0.67       110\n",
      "   macro avg       0.54      0.57      0.54       110\n",
      "weighted avg       0.62      0.67      0.63       110\n",
      "\n",
      "\n",
      "Accuracy: 0.6727272727272727\n"
     ]
    }
   ],
   "source": [
    "from sklearn.metrics import confusion_matrix, classification_report, accuracy_score\n",
    "\n",
    "# Get predictions on test data\n",
    "y_pred = model.predict(X_test)\n",
    "\n",
    "# Convert predictions to class labels\n",
    "y_pred_labels = np.argmax(y_pred, axis=1)\n",
    "y_true_labels = np.argmax(y_test, axis=1)\n",
    "\n",
    "# Compute confusion matrix\n",
    "conf_matrix = confusion_matrix(y_true_labels, y_pred_labels)\n",
    "\n",
    "# Compute classification report\n",
    "class_report = classification_report(y_true_labels, y_pred_labels)\n",
    "\n",
    "# Compute accuracy\n",
    "accuracy = accuracy_score(y_true_labels, y_pred_labels)\n",
    "\n",
    "print(\"Confusion Matrix:\")\n",
    "print(conf_matrix)\n",
    "print(\"\\nClassification Report:\")\n",
    "print(class_report)\n",
    "print(\"\\nAccuracy:\", accuracy)\n"
   ]
  },
  {
   "cell_type": "code",
   "execution_count": 32,
   "metadata": {},
   "outputs": [
    {
     "data": {
      "text/plain": [
       "[<keras.src.engine.input_layer.InputLayer at 0x1f823127d10>,\n",
       " <keras.src.layers.convolutional.conv2d.Conv2D at 0x1f7e7e64d90>,\n",
       " <keras.src.layers.convolutional.conv2d.Conv2D at 0x1f823109150>,\n",
       " <keras.src.layers.pooling.max_pooling2d.MaxPooling2D at 0x1f82311f050>,\n",
       " <keras.src.layers.convolutional.conv2d.Conv2D at 0x1f820c0dcd0>,\n",
       " <keras.src.layers.convolutional.conv2d.Conv2D at 0x1f822f17d50>,\n",
       " <keras.src.layers.pooling.max_pooling2d.MaxPooling2D at 0x1f818995450>,\n",
       " <keras.src.layers.convolutional.conv2d.Conv2D at 0x1f8212321d0>,\n",
       " <keras.src.layers.convolutional.conv2d.Conv2D at 0x1f82341dfd0>,\n",
       " <keras.src.layers.convolutional.conv2d.Conv2D at 0x1f82341fcd0>,\n",
       " <keras.src.layers.pooling.max_pooling2d.MaxPooling2D at 0x1f822f16050>,\n",
       " <keras.src.layers.convolutional.conv2d.Conv2D at 0x1f8212198d0>,\n",
       " <keras.src.layers.convolutional.conv2d.Conv2D at 0x1f82313ded0>,\n",
       " <keras.src.layers.convolutional.conv2d.Conv2D at 0x1f82343f450>,\n",
       " <keras.src.layers.pooling.max_pooling2d.MaxPooling2D at 0x1f820e55f90>,\n",
       " <keras.src.layers.convolutional.conv2d.Conv2D at 0x1f82344af90>,\n",
       " <keras.src.layers.convolutional.conv2d.Conv2D at 0x1f82343f890>,\n",
       " <keras.src.layers.convolutional.conv2d.Conv2D at 0x1f823450110>,\n",
       " <keras.src.layers.pooling.max_pooling2d.MaxPooling2D at 0x1f82343edd0>,\n",
       " <keras.src.layers.pooling.global_average_pooling2d.GlobalAveragePooling2D at 0x1f822f8e6d0>,\n",
       " <keras.src.layers.core.dense.Dense at 0x1f82343e010>,\n",
       " <keras.src.layers.core.dense.Dense at 0x1f823468110>,\n",
       " <keras.src.layers.core.dense.Dense at 0x1f8189b3d10>,\n",
       " <keras.src.layers.core.dense.Dense at 0x1f82f343e50>]"
      ]
     },
     "execution_count": 32,
     "metadata": {},
     "output_type": "execute_result"
    }
   ],
   "source": [
    "model.layers"
   ]
  },
  {
   "cell_type": "code",
   "execution_count": 40,
   "metadata": {},
   "outputs": [
    {
     "data": {
      "image/png": "[encoded data removed]",
      "text/plain": [
       "<Figure size 500x400 with 2 Axes>"
      ]
     },
     "metadata": {},
     "output_type": "display_data"
    }
   ],
   "source": [
    "import matplotlib.pyplot as plt\n",
    "import seaborn as sns\n",
    "def display_conf_matrix(conf_matrix):\n",
    "    # Plot the confusion matrix\n",
    "    class_names = [\"Grade 1\", \"Grade 2\", \"Grade 3\", \"Grade 4\"]\n",
    "    plt.figure(figsize=(5, 4))\n",
    "    sns.heatmap(\n",
    "        conf_matrix,\n",
    "        annot=True,\n",
    "        cmap=\"Blues\",\n",
    "        xticklabels=class_names,\n",
    "        yticklabels=class_names,\n",
    "    )\n",
    "    plt.xlabel(\"Predicted\")\n",
    "    plt.ylabel(\"True\")\n",
    "    plt.title(\"Confusion Matrix\")\n",
    "    plt.show()\n",
    "\n",
    "display_conf_matrix(conf_matrix)\n"
   ]
  },
  {
   "cell_type": "code",
   "execution_count": 41,
   "metadata": {},
   "outputs": [
    {
     "name": "stdout",
     "output_type": "stream",
     "text": [
      "0 InputLayer False\n",
      "1 Conv2D False\n",
      "2 Conv2D False\n",
      "3 MaxPooling2D False\n",
      "4 Conv2D False\n",
      "5 Conv2D False\n",
      "6 MaxPooling2D False\n",
      "7 Conv2D False\n",
      "8 Conv2D False\n",
      "9 Conv2D False\n",
      "10 MaxPooling2D False\n",
      "11 Conv2D False\n",
      "12 Conv2D False\n",
      "13 Conv2D False\n",
      "14 MaxPooling2D False\n",
      "15 Conv2D False\n",
      "16 Conv2D False\n",
      "17 Conv2D False\n",
      "18 MaxPooling2D False\n",
      "Model: \"model_2\"\n",
      "_________________________________________________________________\n",
      " Layer (type)                Output Shape              Param #   \n",
      "=================================================================\n",
      " input_3 (InputLayer)        [(None, 400, 630, 3)]     0         \n",
      "                                                                 \n",
      " block1_conv1 (Conv2D)       (None, 400, 630, 64)      1792      \n",
      "                                                                 \n",
      " block1_conv2 (Conv2D)       (None, 400, 630, 64)      36928     \n",
      "                                                                 \n",
      " block1_pool (MaxPooling2D)  (None, 200, 315, 64)      0         \n",
      "                                                                 \n",
      " block2_conv1 (Conv2D)       (None, 200, 315, 128)     73856     \n",
      "                                                                 \n",
      " block2_conv2 (Conv2D)       (None, 200, 315, 128)     147584    \n",
      "                                                                 \n",
      " block2_pool (MaxPooling2D)  (None, 100, 157, 128)     0         \n",
      "                                                                 \n",
      " block3_conv1 (Conv2D)       (None, 100, 157, 256)     295168    \n",
      "                                                                 \n",
      " block3_conv2 (Conv2D)       (None, 100, 157, 256)     590080    \n",
      "                                                                 \n",
      " block3_conv3 (Conv2D)       (None, 100, 157, 256)     590080    \n",
      "                                                                 \n",
      " block3_pool (MaxPooling2D)  (None, 50, 78, 256)       0         \n",
      "                                                                 \n",
      " block4_conv1 (Conv2D)       (None, 50, 78, 512)       1180160   \n",
      "                                                                 \n",
      " block4_conv2 (Conv2D)       (None, 50, 78, 512)       2359808   \n",
      "                                                                 \n",
      " block4_conv3 (Conv2D)       (None, 50, 78, 512)       2359808   \n",
      "                                                                 \n",
      " block4_pool (MaxPooling2D)  (None, 25, 39, 512)       0         \n",
      "                                                                 \n",
      " block5_conv1 (Conv2D)       (None, 25, 39, 512)       2359808   \n",
      "                                                                 \n",
      " block5_conv2 (Conv2D)       (None, 25, 39, 512)       2359808   \n",
      "                                                                 \n",
      " block5_conv3 (Conv2D)       (None, 25, 39, 512)       2359808   \n",
      "                                                                 \n",
      " block5_pool (MaxPooling2D)  (None, 12, 19, 512)       0         \n",
      "                                                                 \n",
      " global_average_pooling2d_2  (None, 512)               0         \n",
      "  (GlobalAveragePooling2D)                                       \n",
      "                                                                 \n",
      " dense_8 (Dense)             (None, 1024)              525312    \n",
      "                                                                 \n",
      " dense_9 (Dense)             (None, 512)               524800    \n",
      "                                                                 \n",
      " dense_10 (Dense)            (None, 4)                 2052      \n",
      "                                                                 \n",
      "=================================================================\n",
      "Total params: 15766852 (60.15 MB)\n",
      "Trainable params: 1052164 (4.01 MB)\n",
      "Non-trainable params: 14714688 (56.13 MB)\n",
      "_________________________________________________________________\n",
      "None\n",
      "Epoch 1/5\n",
      "14/14 [==============================] - 123s 9s/step - loss: 1.9182 - accuracy: 0.3432 - val_loss: 1.3669 - val_accuracy: 0.2364\n",
      "Epoch 2/5\n",
      "14/14 [==============================] - 207s 15s/step - loss: 1.2114 - accuracy: 0.4773 - val_loss: 1.0299 - val_accuracy: 0.6455\n",
      "Epoch 3/5\n",
      "14/14 [==============================] - 135s 10s/step - loss: 1.0498 - accuracy: 0.5500 - val_loss: 1.0165 - val_accuracy: 0.5364\n",
      "Epoch 4/5\n",
      "14/14 [==============================] - 276s 20s/step - loss: 0.9684 - accuracy: 0.5864 - val_loss: 0.9183 - val_accuracy: 0.5818\n",
      "Epoch 5/5\n",
      "14/14 [==============================] - 305s 22s/step - loss: 0.8749 - accuracy: 0.5955 - val_loss: 0.9359 - val_accuracy: 0.5364\n"
     ]
    }
   ],
   "source": [
    "from sklearn.model_selection import train_test_split\n",
    "from sklearn import preprocessing\n",
    "import tensorflow as tf\n",
    "from keras.applications import vgg16\n",
    "from keras.layers import Dense, GlobalAveragePooling2D\n",
    "from keras.models import Model\n",
    "\n",
    "\n",
    "X_train, X_test, y_train, y_test = train_test_split(\n",
    "    X, y, test_size=0.2, random_state=42, stratify=y\n",
    ")\n",
    "\n",
    "\n",
    "\n",
    "le = preprocessing.LabelEncoder()\n",
    "y_train = le.fit_transform(y_train)\n",
    "y_test = le.fit_transform(y_test)\n",
    "\n",
    "y_train = tf.keras.utils.to_categorical(y_train, num_classes=4)\n",
    "\n",
    "y_test = tf.keras.utils.to_categorical(y_test, num_classes=4)\n",
    "\n",
    "y_train = np.array(y_train)\n",
    "X_train = np.array(X_train)\n",
    "y_test = np.array(y_test)\n",
    "X_test = np.array(X_test)\n",
    "\n",
    "\n",
    "img_rows, img_cols = (400, 630)\n",
    "\n",
    "vgg = vgg16.VGG16(\n",
    "    weights=\"imagenet\", include_top=False, input_shape=(img_rows, img_cols, 3)\n",
    ")\n",
    "\n",
    "\n",
    "for layer in vgg.layers:\n",
    "    layer.trainable = False\n",
    "\n",
    "for i, layer in enumerate(vgg.layers):\n",
    "    print(str(i) + \" \" + layer.__class__.__name__, layer.trainable)\n",
    "\n",
    "\n",
    "\n",
    "def lw(bottom_model, num_classes):\n",
    "\n",
    "    top_model = bottom_model.output\n",
    "    top_model = GlobalAveragePooling2D()(top_model)\n",
    "    # top_model = Dense(1024, activation=\"relu\")(top_model)\n",
    "    top_model = Dense(1024, activation=\"relu\")(top_model)\n",
    "    top_model = Dense(512, activation=\"relu\")(top_model)\n",
    "    top_model = Dense(num_classes, activation=\"softmax\")(top_model)\n",
    "    return top_model\n",
    "\n",
    "\n",
    "\n",
    "\n",
    "num_classes = 4\n",
    "\n",
    "FC_Head = lw(vgg, num_classes)\n",
    "\n",
    "model = Model(inputs=vgg.input, outputs=FC_Head)\n",
    "\n",
    "print(model.summary())\n",
    "\n",
    "model.compile(optimizer=\"adam\", loss=\"categorical_crossentropy\", metrics=[\"accuracy\"])\n",
    "history = model.fit(\n",
    "    X_train,\n",
    "    y_train,\n",
    "    epochs=5,\n",
    "    validation_data=(X_test, y_test),\n",
    "    verbose=1,\n",
    "    initial_epoch=0,\n",
    ")"
   ]
  },
  {
   "cell_type": "code",
   "execution_count": 43,
   "metadata": {},
   "outputs": [
    {
     "name": "stderr",
     "output_type": "stream",
     "text": [
      "WARNING:absl:`lr` is deprecated in Keras optimizer, please use `learning_rate` or use the legacy optimizer, e.g.,tf.keras.optimizers.legacy.Adam.\n"
     ]
    },
    {
     "name": "stdout",
     "output_type": "stream",
     "text": [
      "Epoch 1/20\n",
      "14/14 [==============================] - 121s 9s/step - loss: 1.9542 - accuracy: 0.3455 - val_loss: 1.2726 - val_accuracy: 0.4364\n",
      "Epoch 2/20\n",
      "14/14 [==============================] - 129s 9s/step - loss: 1.1781 - accuracy: 0.4864 - val_loss: 1.1087 - val_accuracy: 0.5364\n",
      "Epoch 3/20\n",
      "14/14 [==============================] - 130s 9s/step - loss: 1.0710 - accuracy: 0.5295 - val_loss: 0.9267 - val_accuracy: 0.6818\n",
      "Epoch 4/20\n",
      "14/14 [==============================] - 131s 9s/step - loss: 0.8929 - accuracy: 0.6295 - val_loss: 1.0251 - val_accuracy: 0.5545\n",
      "Epoch 5/20\n",
      "14/14 [==============================] - 148s 11s/step - loss: 0.9614 - accuracy: 0.5568 - val_loss: 0.9167 - val_accuracy: 0.5636\n",
      "Epoch 6/20\n",
      "14/14 [==============================] - 292s 21s/step - loss: 0.8633 - accuracy: 0.6409 - val_loss: 0.9415 - val_accuracy: 0.5909\n",
      "Epoch 7/20\n",
      "14/14 [==============================] - 179s 12s/step - loss: 0.7262 - accuracy: 0.7091 - val_loss: 0.7659 - val_accuracy: 0.7000\n",
      "Epoch 8/20\n",
      "14/14 [==============================] - 130s 9s/step - loss: 0.5870 - accuracy: 0.7614 - val_loss: 0.7844 - val_accuracy: 0.6545\n",
      "Epoch 9/20\n",
      "14/14 [==============================] - 130s 9s/step - loss: 0.5204 - accuracy: 0.8023 - val_loss: 0.6318 - val_accuracy: 0.7455\n",
      "Epoch 10/20\n",
      "14/14 [==============================] - 130s 9s/step - loss: 0.5416 - accuracy: 0.7727 - val_loss: 0.7518 - val_accuracy: 0.6636\n",
      "Epoch 11/20\n",
      "14/14 [==============================] - 130s 9s/step - loss: 0.4783 - accuracy: 0.8136 - val_loss: 0.6690 - val_accuracy: 0.7364\n",
      "Epoch 12/20\n",
      "14/14 [==============================] - 129s 9s/step - loss: 0.3517 - accuracy: 0.8614 - val_loss: 0.7614 - val_accuracy: 0.7364\n"
     ]
    }
   ],
   "source": [
    "from sklearn.model_selection import train_test_split\n",
    "from sklearn import preprocessing\n",
    "import tensorflow as tf\n",
    "import numpy as np\n",
    "from keras.applications import vgg16\n",
    "from keras.layers import Dense, GlobalAveragePooling2D\n",
    "from keras.models import Model\n",
    "from keras.optimizers import Adam\n",
    "from keras.callbacks import EarlyStopping\n",
    "\n",
    "X_train, X_test, y_train, y_test = train_test_split(\n",
    "    X, y, test_size=0.2, random_state=42, stratify=y\n",
    ")\n",
    "# Preprocess the labels\n",
    "le = preprocessing.LabelEncoder()\n",
    "y_train = le.fit_transform(y_train)\n",
    "y_test = le.fit_transform(y_test)\n",
    "\n",
    "# One-hot encode the labels\n",
    "num_classes = 4\n",
    "y_train = tf.keras.utils.to_categorical(y_train, num_classes=num_classes)\n",
    "y_test = tf.keras.utils.to_categorical(y_test, num_classes=num_classes)\n",
    "\n",
    "img_rows, img_cols = (400, 630)\n",
    "base_model = vgg16.VGG16(weights=\"imagenet\", include_top=False, input_shape=(img_rows, img_cols, 3))\n",
    "\n",
    "for layer in base_model.layers:\n",
    "    layer.trainable = False\n",
    "\n",
    "x = base_model.output\n",
    "x = GlobalAveragePooling2D()(x)\n",
    "x = Dense(1024, activation=\"relu\")(x)\n",
    "x = Dense(1024, activation=\"relu\")(x)\n",
    "x = Dense(512, activation=\"relu\")(x)\n",
    "predictions = Dense(num_classes, activation=\"softmax\")(x)\n",
    "\n",
    "model = Model(inputs=base_model.input, outputs=predictions)\n",
    "\n",
    "optimizer = Adam(learning_rate=0.001)  # Adjust learning rate as needed\n",
    "model.compile(optimizer=optimizer, loss=\"categorical_crossentropy\", metrics=[\"accuracy\"])\n",
    "\n",
    "early_stopping = EarlyStopping(monitor='val_loss', patience=3, restore_best_weights=True)\n",
    "\n",
    "history = model.fit(\n",
    "    X_train,\n",
    "    y_train,\n",
    "    epochs=20,  # Increase epochs if needed\n",
    "    validation_data=(X_test, y_test),\n",
    "    verbose=1,\n",
    "    callbacks=[early_stopping]\n",
    ")\n"
   ]
  },
  {
   "cell_type": "code",
   "execution_count": 48,
   "metadata": {},
   "outputs": [],
   "source": [
    "from sklearn.metrics import confusion_matrix, classification_report, accuracy_score\n",
    "\n",
    "def display_pred_results(model, X_test, y_test):\n",
    "    y_pred = model.predict(X_test)\n",
    "\n",
    "    y_pred_labels = np.argmax(y_pred, axis=1)\n",
    "    y_true_labels = np.argmax(y_test, axis=1)\n",
    "\n",
    "    conf_matrix = confusion_matrix(y_true_labels, y_pred_labels)\n",
    "\n",
    "    class_report = classification_report(y_true_labels, y_pred_labels)\n",
    "\n",
    "    accuracy = accuracy_score(y_true_labels, y_pred_labels)\n",
    "\n",
    "    print(\"\\nClassification Report:\")\n",
    "    print(class_report)\n",
    "    print(\"\\nAccuracy:\", accuracy)\n",
    "    display_conf_matrix(conf_matrix)"
   ]
  },
  {
   "cell_type": "code",
   "execution_count": 45,
   "metadata": {},
   "outputs": [
    {
     "name": "stdout",
     "output_type": "stream",
     "text": [
      "4/4 [==============================] - 22s 5s/step\n",
      "Confusion Matrix:\n",
      "[[32  2  2  0]\n",
      " [ 3 30  4  1]\n",
      " [ 1  7  4  4]\n",
      " [ 0  1  3 16]]\n",
      "\n",
      "Classification Report:\n",
      "              precision    recall  f1-score   support\n",
      "\n",
      "           0       0.89      0.89      0.89        36\n",
      "           1       0.75      0.79      0.77        38\n",
      "           2       0.31      0.25      0.28        16\n",
      "           3       0.76      0.80      0.78        20\n",
      "\n",
      "    accuracy                           0.75       110\n",
      "   macro avg       0.68      0.68      0.68       110\n",
      "weighted avg       0.73      0.75      0.74       110\n",
      "\n",
      "\n",
      "Accuracy: 0.7454545454545455\n"
     ]
    },
    {
     "data": {
      "image/png": "[encoded data removed]",
      "text/plain": [
       "<Figure size 500x400 with 2 Axes>"
      ]
     },
     "metadata": {},
     "output_type": "display_data"
    }
   ],
   "source": [
    "from sklearn.metrics import confusion_matrix, classification_report, accuracy_score\n",
    "\n",
    "# Get predictions on test data\n",
    "y_pred = model.predict(X_test)\n",
    "\n",
    "# Convert predictions to class labels\n",
    "y_pred_labels = np.argmax(y_pred, axis=1)\n",
    "y_true_labels = np.argmax(y_test, axis=1)\n",
    "\n",
    "# Compute confusion matrix\n",
    "conf_matrix = confusion_matrix(y_true_labels, y_pred_labels)\n",
    "\n",
    "# Compute classification report\n",
    "class_report = classification_report(y_true_labels, y_pred_labels)\n",
    "\n",
    "# Compute accuracy\n",
    "accuracy = accuracy_score(y_true_labels, y_pred_labels)\n",
    "\n",
    "print(\"Confusion Matrix:\")\n",
    "print(conf_matrix)\n",
    "print(\"\\nClassification Report:\")\n",
    "print(class_report)\n",
    "print(\"\\nAccuracy:\", accuracy)\n",
    "display_conf_matrix(conf_matrix)"
   ]
  },
  {
   "cell_type": "code",
   "execution_count": 46,
   "metadata": {},
   "outputs": [
    {
     "name": "stdout",
     "output_type": "stream",
     "text": [
      "Epoch 1/20\n",
      "13/13 [==============================] - 128s 9s/step - loss: 1.7842 - accuracy: 0.3250 - val_loss: 1.3212 - val_accuracy: 0.3455\n",
      "Epoch 2/20\n",
      "13/13 [==============================] - 132s 10s/step - loss: 1.3636 - accuracy: 0.3455 - val_loss: 1.2982 - val_accuracy: 0.3455\n",
      "Epoch 3/20\n",
      "13/13 [==============================] - 131s 10s/step - loss: 1.2749 - accuracy: 0.3432 - val_loss: 1.2616 - val_accuracy: 0.4000\n",
      "Epoch 4/20\n",
      "13/13 [==============================] - 131s 10s/step - loss: 1.2192 - accuracy: 0.4136 - val_loss: 1.3398 - val_accuracy: 0.3455\n",
      "Epoch 5/20\n",
      "13/13 [==============================] - 132s 10s/step - loss: 1.2221 - accuracy: 0.4273 - val_loss: 1.2730 - val_accuracy: 0.3545\n",
      "Epoch 6/20\n",
      "13/13 [==============================] - 131s 10s/step - loss: 1.1938 - accuracy: 0.4409 - val_loss: 1.1357 - val_accuracy: 0.4545\n",
      "Epoch 7/20\n",
      "13/13 [==============================] - 131s 10s/step - loss: 1.2086 - accuracy: 0.4273 - val_loss: 1.1595 - val_accuracy: 0.4091\n",
      "Epoch 8/20\n",
      "13/13 [==============================] - 130s 10s/step - loss: 1.1638 - accuracy: 0.4864 - val_loss: 1.1592 - val_accuracy: 0.4818\n",
      "Epoch 9/20\n",
      "13/13 [==============================] - 146s 11s/step - loss: 1.1275 - accuracy: 0.5159 - val_loss: 1.0898 - val_accuracy: 0.5364\n",
      "Epoch 10/20\n",
      "13/13 [==============================] - 199s 15s/step - loss: 1.1401 - accuracy: 0.4773 - val_loss: 1.0771 - val_accuracy: 0.4909\n",
      "Epoch 11/20\n",
      "13/13 [==============================] - 288s 21s/step - loss: 1.1224 - accuracy: 0.4864 - val_loss: 1.0525 - val_accuracy: 0.5545\n",
      "Epoch 12/20\n",
      "13/13 [==============================] - 212s 15s/step - loss: 1.1486 - accuracy: 0.4386 - val_loss: 1.1360 - val_accuracy: 0.4000\n",
      "Epoch 13/20\n",
      "13/13 [==============================] - 148s 11s/step - loss: 1.1113 - accuracy: 0.4932 - val_loss: 0.9818 - val_accuracy: 0.5727\n",
      "Epoch 14/20\n",
      "13/13 [==============================] - 140s 10s/step - loss: 1.0738 - accuracy: 0.4614 - val_loss: 1.0813 - val_accuracy: 0.4727\n",
      "Epoch 15/20\n",
      "13/13 [==============================] - 159s 12s/step - loss: 1.0340 - accuracy: 0.5136 - val_loss: 1.0200 - val_accuracy: 0.5091\n",
      "Epoch 16/20\n",
      "13/13 [==============================] - 247s 19s/step - loss: 1.0539 - accuracy: 0.5364 - val_loss: 0.9538 - val_accuracy: 0.5636\n",
      "Epoch 17/20\n",
      "13/13 [==============================] - 287s 21s/step - loss: 1.0361 - accuracy: 0.5364 - val_loss: 1.0794 - val_accuracy: 0.4364\n",
      "Epoch 18/20\n",
      "13/13 [==============================] - 287s 21s/step - loss: 1.0357 - accuracy: 0.5250 - val_loss: 0.9712 - val_accuracy: 0.5364\n",
      "Epoch 19/20\n",
      "13/13 [==============================] - 166s 12s/step - loss: 1.0138 - accuracy: 0.5386 - val_loss: 0.9689 - val_accuracy: 0.6273\n"
     ]
    }
   ],
   "source": [
    "from sklearn.model_selection import train_test_split\n",
    "from sklearn import preprocessing\n",
    "import tensorflow as tf\n",
    "import numpy as np\n",
    "from keras.applications import vgg16\n",
    "from keras.layers import Dense, GlobalAveragePooling2D\n",
    "from keras.models import Model\n",
    "from keras.optimizers import Adam\n",
    "from keras.callbacks import EarlyStopping\n",
    "from keras.preprocessing.image import ImageDataGenerator\n",
    "\n",
    "# Load and preprocess the dataset (replace 'X' and 'y' with your dataset)\n",
    "X_train, X_test, y_train, y_test = train_test_split(\n",
    "    X, y, test_size=0.2, random_state=42, stratify=y\n",
    ")\n",
    "\n",
    "# Preprocess the labels\n",
    "le = preprocessing.LabelEncoder()\n",
    "y_train = le.fit_transform(y_train)\n",
    "y_test = le.fit_transform(y_test)\n",
    "\n",
    "# One-hot encode the labels\n",
    "num_classes = 4\n",
    "y_train = tf.keras.utils.to_categorical(y_train, num_classes=num_classes)\n",
    "y_test = tf.keras.utils.to_categorical(y_test, num_classes=num_classes)\n",
    "\n",
    "# Load pre-trained VGG16 model\n",
    "img_rows, img_cols = (400, 630)\n",
    "base_model = vgg16.VGG16(weights=\"imagenet\", include_top=False, input_shape=(img_rows, img_cols, 3))\n",
    "\n",
    "# Freeze the layers of the pre-trained model\n",
    "for layer in base_model.layers:\n",
    "    layer.trainable = False\n",
    "\n",
    "# Add custom dense layers for classification\n",
    "x = base_model.output\n",
    "x = GlobalAveragePooling2D()(x)\n",
    "x = Dense(1024, activation=\"relu\")(x)\n",
    "x = Dense(1024, activation=\"relu\")(x)\n",
    "x = Dense(512, activation=\"relu\")(x)\n",
    "predictions = Dense(num_classes, activation=\"softmax\")(x)\n",
    "\n",
    "# Create the model\n",
    "model = Model(inputs=base_model.input, outputs=predictions)\n",
    "\n",
    "# Compile the model with Adam optimizer and categorical crossentropy loss\n",
    "optimizer = Adam(learning_rate=0.001)\n",
    "model.compile(optimizer=optimizer, loss=\"categorical_crossentropy\", metrics=[\"accuracy\"])\n",
    "\n",
    "# Define early stopping callback\n",
    "early_stopping = EarlyStopping(monitor='val_loss', patience=3, restore_best_weights=True)\n",
    "\n",
    "# Data augmentation\n",
    "datagen = ImageDataGenerator(\n",
    "    rotation_range=20,\n",
    "    width_shift_range=0.2,\n",
    "    height_shift_range=0.2,\n",
    "    shear_range=0.2,\n",
    "    zoom_range=0.2,\n",
    "    horizontal_flip=True,\n",
    "    fill_mode='nearest'\n",
    ")\n",
    "\n",
    "# Fit the model with data augmentation and early stopping\n",
    "history = model.fit(\n",
    "    datagen.flow(X_train, y_train, batch_size=32),\n",
    "    steps_per_epoch=len(X_train) / 32,\n",
    "    epochs=20,\n",
    "    validation_data=(X_test, y_test),\n",
    "    callbacks=[early_stopping]\n",
    ")\n"
   ]
  },
  {
   "cell_type": "code",
   "execution_count": 51,
   "metadata": {},
   "outputs": [
    {
     "name": "stdout",
     "output_type": "stream",
     "text": [
      "4/4 [==============================] - 25s 6s/step\n",
      "\n",
      "Classification Report:\n",
      "              precision    recall  f1-score   support\n",
      "\n",
      "           0       0.59      0.92      0.72        36\n",
      "           1       0.50      0.42      0.46        38\n",
      "           2       0.20      0.06      0.10        16\n",
      "           3       0.71      0.60      0.65        20\n",
      "\n",
      "    accuracy                           0.56       110\n",
      "   macro avg       0.50      0.50      0.48       110\n",
      "weighted avg       0.52      0.56      0.52       110\n",
      "\n",
      "\n",
      "Accuracy: 0.5636363636363636\n"
     ]
    },
    {
     "data": {
      "image/png": "[encoded data removed]",
      "text/plain": [
       "<Figure size 500x400 with 2 Axes>"
      ]
     },
     "metadata": {},
     "output_type": "display_data"
    }
   ],
   "source": [
    "display_pred_results(model, X_test, y_test)\n",
    "\n",
    "import joblib as jb"
   ]
  },
  {
   "cell_type": "code",
   "execution_count": 50,
   "metadata": {},
   "outputs": [
    {
     "data": {
      "text/plain": [
       "['..\\\\models\\\\vgg16_data_aug.pkl']"
      ]
     },
     "execution_count": 50,
     "metadata": {},
     "output_type": "execute_result"
    }
   ],
   "source": [
    "jb.dump(model, \"..\\models\\\\vgg16_data_aug.pkl\")\n"
   ]
  },
  {
   "cell_type": "code",
   "execution_count": null,
   "metadata": {},
   "outputs": [],
   "source": []
  }
 ],
 "metadata": {
  "kernelspec": {
   "display_name": "Python 3",
   "language": "python",
   "name": "python3"
  },
  "language_info": {
   "codemirror_mode": {
    "name": "ipython",
    "version": 3
   },
   "file_extension": ".py",
   "mimetype": "text/x-python",
   "name": "python",
   "nbconvert_exporter": "python",
   "pygments_lexer": "ipython3",
   "version": "3.11.8"
  }
 },
 "nbformat": 4,
 "nbformat_minor": 2
}
