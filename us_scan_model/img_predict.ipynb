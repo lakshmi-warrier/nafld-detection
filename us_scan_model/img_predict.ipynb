{
 "cells": [
  {
   "cell_type": "code",
   "execution_count": null,
   "metadata": {},
   "outputs": [],
   "source": [
    "# !pip install scipy"
   ]
  },
  {
   "cell_type": "code",
   "execution_count": 2,
   "metadata": {},
   "outputs": [],
   "source": [
    "from scipy.io import loadmat\n",
    "\n",
    "loaded_dataset = loadmat(\"dataset_liver_bmodes_steatosis_assessment_IJCARS.mat\")"
   ]
  },
  {
   "cell_type": "code",
   "execution_count": 3,
   "metadata": {},
   "outputs": [],
   "source": [
    "import matplotlib.pyplot as plt\n",
    "import pandas as pd\n",
    "import numpy as np\n",
    "import cv2"
   ]
  },
  {
   "cell_type": "markdown",
   "metadata": {},
   "source": [
    "# Display one scan"
   ]
  },
  {
   "cell_type": "code",
   "execution_count": null,
   "metadata": {},
   "outputs": [],
   "source": [
    "# Display the 1 person's scan\n",
    "images = loaded_dataset[\"data\"][\"images\"][0][0]\n",
    "\n",
    "fig, axes = plt.subplots(2, 5, figsize=(15, 5))\n",
    "for i, ax in enumerate(axes.flatten()):\n",
    "    ax.imshow(images[i], cmap=\"gray\")\n",
    "    ax.axis(\"off\")\n",
    "    ax.text(\n",
    "        0.5,\n",
    "        -0.15,\n",
    "        f\"Steatosis: {loaded_dataset['data']['class'][0][0][0][0]}\",\n",
    "        fontsize=10,\n",
    "        ha=\"center\",\n",
    "        transform=ax.transAxes,\n",
    "    )\n",
    "    ax.text(\n",
    "        0.5,\n",
    "        -0.25,\n",
    "        f\"Fat: {loaded_dataset['data']['fat'][0][0][0][0]}%\",\n",
    "        fontsize=10,\n",
    "        ha=\"center\",\n",
    "        transform=ax.transAxes,\n",
    "    )\n",
    "\n",
    "plt.show()"
   ]
  },
  {
   "cell_type": "markdown",
   "metadata": {},
   "source": [
    "# Display sample ultrasound scans"
   ]
  },
  {
   "cell_type": "code",
   "execution_count": null,
   "metadata": {},
   "outputs": [],
   "source": [
    "fig, axes = plt.subplots(5, 5, figsize=(15, 10))\n",
    "for i, ax in enumerate(axes.flatten()):\n",
    "    images = loaded_dataset[\"data\"][\"images\"][0][i]\n",
    "\n",
    "    ax.imshow(images[0], cmap=\"gray\")\n",
    "    ax.axis(\"off\")\n",
    "    ax.text(\n",
    "        0.5,\n",
    "        -0.1,\n",
    "        f\"Steatosis: {loaded_dataset['data']['class'][0][i][0][0]}, fat%: {loaded_dataset['data']['fat'][0][i][0][0]}\",\n",
    "        fontsize=10,\n",
    "        ha=\"center\",\n",
    "        transform=ax.transAxes,\n",
    "    )\n",
    "\n",
    "plt.show()"
   ]
  },
  {
   "cell_type": "markdown",
   "metadata": {},
   "source": [
    "### Display a random image"
   ]
  },
  {
   "cell_type": "code",
   "execution_count": null,
   "metadata": {},
   "outputs": [],
   "source": [
    "image = loaded_dataset[\"data\"][\"images\"][0][24][0]\n",
    "image = image.astype(\"uint8\")\n",
    "\n",
    "scaled_image = (image / np.max(image)) * 255\n",
    "scaled_image = scaled_image.astype(np.uint8)"
   ]
  },
  {
   "cell_type": "code",
   "execution_count": null,
   "metadata": {},
   "outputs": [],
   "source": [
    "# Display the image\n",
    "plt.imshow(image, cmap=\"gray\")\n",
    "plt.axis(\"off\")\n",
    "plt.show()"
   ]
  },
  {
   "cell_type": "markdown",
   "metadata": {},
   "source": [
    "## Histograms - scaled and unscaled"
   ]
  },
  {
   "cell_type": "code",
   "execution_count": null,
   "metadata": {},
   "outputs": [],
   "source": [
    "non_zero_values = image.flatten()[image.flatten() != 0]\n",
    "\n",
    "pd.Series(non_zero_values).plot(kind=\"hist\", bins=100, title=\"Image pixel distribution\")"
   ]
  },
  {
   "cell_type": "code",
   "execution_count": null,
   "metadata": {},
   "outputs": [],
   "source": [
    "non_zero_values = scaled_image.flatten()[scaled_image.flatten() != 0]\n",
    "pd.Series(non_zero_values).plot(\n",
    "    kind=\"hist\", bins=100, title=\"Scaled image pixel distribution\"\n",
    ")"
   ]
  },
  {
   "cell_type": "code",
   "execution_count": 4,
   "metadata": {},
   "outputs": [],
   "source": [
    "# performs worse than enhancer_img function when checked with cross validation\n",
    "\n",
    "def enhance_image(image):\n",
    "\n",
    "    scaled_image = (image / np.max(image)) * 255\n",
    "    scaled_image = scaled_image.astype(np.uint8)\n",
    "\n",
    "    # Apply histogram equalization to enhance contrast\n",
    "    enhanced_image = cv2.equalizeHist(scaled_image)\n",
    "\n",
    "    # Apply Gaussian blur to reduce noise\n",
    "    enhanced_image = cv2.GaussianBlur(enhanced_image, (5, 5), 0)\n",
    "\n",
    "    # Apply sharpening using the Laplacian filter\n",
    "    laplacian = cv2.Laplacian(enhanced_image, cv2.CV_64F)\n",
    "    sharpened_image = np.uint8(np.clip(enhanced_image - 0.5 * laplacian, 0, 255))\n",
    "    normalized_image = cv2.normalize(\n",
    "        sharpened_image,\n",
    "        None,\n",
    "        alpha=0,\n",
    "        beta=1,\n",
    "        norm_type=cv2.NORM_MINMAX,\n",
    "        dtype=cv2.CV_32F,\n",
    "    )\n",
    "\n",
    "    return normalized_image"
   ]
  },
  {
   "cell_type": "code",
   "execution_count": 5,
   "metadata": {},
   "outputs": [],
   "source": [
    "def enhancer_image(image):\n",
    "    image = np.uint8(image)\n",
    "    scaled_image = (image / np.max(image)) * 255\n",
    "    scaled_image = scaled_image.astype(np.uint8)\n",
    "\n",
    "    # Apply adaptive histogram equalization (CLAHE) to enhance local contrast\n",
    "    clahe = cv2.createCLAHE(clipLimit=2.0, tileGridSize=(8, 8))\n",
    "    enhanced_image = clahe.apply(scaled_image.astype(np.uint8))\n",
    "\n",
    "    # Apply bilateral filtering for noise reduction while preserving edges\n",
    "    enhanced_image = cv2.bilateralFilter(enhanced_image, 15, 50, 50)\n",
    "\n",
    "    # Apply sharpening using the Laplacian filter\n",
    "    laplacian = cv2.Laplacian(enhanced_image, cv2.CV_64F)\n",
    "    sharpened_image = np.uint8(np.clip(enhanced_image - 0.5 * laplacian, 0, 255))\n",
    "    normalized_image = cv2.normalize(\n",
    "        sharpened_image,\n",
    "        None,\n",
    "        alpha=0,\n",
    "        beta=1,\n",
    "        norm_type=cv2.NORM_MINMAX,\n",
    "        dtype=cv2.CV_32F,\n",
    "    )\n",
    "\n",
    "    return normalized_image"
   ]
  },
  {
   "cell_type": "code",
   "execution_count": null,
   "metadata": {},
   "outputs": [],
   "source": [
    "def show_img(label, image):\n",
    "    # image = image.astype(np.uint8)\n",
    "\n",
    "    cv2.imshow(label, image)\n",
    "    cv2.waitKey(0)\n",
    "    cv2.destroyAllWindows()"
   ]
  },
  {
   "cell_type": "code",
   "execution_count": null,
   "metadata": {},
   "outputs": [],
   "source": [
    "enhanced_img1 = enhance_image(image)\n",
    "enhanced_img2 = enhancer_image(scaled_image)\n",
    "\n",
    "plt.figure(figsize=(8, 6))\n",
    "\n",
    "# Plot first image\n",
    "plt.subplot(2, 2, 1)\n",
    "plt.imshow(image, cmap=\"gray\")\n",
    "plt.title(\"Original\")\n",
    "plt.axis(\"off\")\n",
    "\n",
    "# Plot second image\n",
    "plt.subplot(2, 2, 2)\n",
    "plt.imshow(scaled_image, cmap=\"gray\")\n",
    "plt.title(\"Scaled\")\n",
    "plt.axis(\"off\")\n",
    "\n",
    "# Plot third image\n",
    "plt.subplot(2, 2, 3)\n",
    "plt.imshow(enhanced_img2, cmap=\"gray\")\n",
    "plt.title(\"More enhanced(?)\")\n",
    "plt.axis(\"off\")\n",
    "\n",
    "# Plot fourth image\n",
    "plt.subplot(2, 2, 4)\n",
    "plt.imshow(enhanced_img1, cmap=\"gray\")\n",
    "plt.title(\"Enhanced\")\n",
    "plt.axis(\"off\")\n",
    "\n",
    "plt.tight_layout()\n",
    "plt.show()"
   ]
  },
  {
   "cell_type": "markdown",
   "metadata": {},
   "source": [
    "## Full fledged code:"
   ]
  },
  {
   "cell_type": "markdown",
   "metadata": {},
   "source": [
    "### Making dataframe, saving original, enhanced and roi images into directories"
   ]
  },
  {
   "cell_type": "code",
   "execution_count": 41,
   "metadata": {},
   "outputs": [],
   "source": [
    "data = loaded_dataset[\"data\"]\n",
    "data_records = {\"id\": [], \"fat\": [], \"class\": [], \"images\": []}\n",
    "\n",
    "for record in range(55):\n",
    "    id_ = data[\"id\"][0][record][0][0]\n",
    "    fat = data[\"fat\"][0][record][0][0]\n",
    "    cat = data[\"class\"][0][record][0][0]\n",
    "    imgs = data[\"images\"][0][record]\n",
    "\n",
    "    for index, im in enumerate(imgs):\n",
    "        filename = f\"{id_}_{cat}_{fat}_{index}.jpg\"\n",
    "        enh_im = enhance_image(im.astype(np.uint8))\n",
    "        enh_im1 = enhancer_image(im.astype(np.uint8))\n",
    "\n",
    "        # cropping the image for region of interest\n",
    "        roi_im = enh_im1[120:350, 125:420]\n",
    "        roi_im = roi_im.astype(np.uint8)\n",
    "\n",
    "        data_records[\"id\"].append(id_)\n",
    "        data_records[\"fat\"].append(fat)\n",
    "        data_records[\"class\"].append(cat)\n",
    "        data_records[\"images\"].append(roi_im)\n",
    "\n",
    "        # to save images:\n",
    "        # plt.imsave(f\"og/{filename}\", im.astype(np.uint8),cmap=\"grey\" )\n",
    "        # plt.imsave(f\"enh/{filename}\", enh_im, cmap=\"grey\" )\n",
    "        # plt.imsave(f\"roi/{filename}\", roi_im, cmap=\"grey\" )\n",
    "\n",
    "df = pd.DataFrame(data_records)"
   ]
  },
  {
   "cell_type": "code",
   "execution_count": 42,
   "metadata": {},
   "outputs": [
    {
     "data": {
      "text/html": [
       "<div>\n",
       "<style scoped>\n",
       "    .dataframe tbody tr th:only-of-type {\n",
       "        vertical-align: middle;\n",
       "    }\n",
       "\n",
       "    .dataframe tbody tr th {\n",
       "        vertical-align: top;\n",
       "    }\n",
       "\n",
       "    .dataframe thead th {\n",
       "        text-align: right;\n",
       "    }\n",
       "</style>\n",
       "<table border=\"1\" class=\"dataframe\">\n",
       "  <thead>\n",
       "    <tr style=\"text-align: right;\">\n",
       "      <th></th>\n",
       "      <th>id</th>\n",
       "      <th>fat</th>\n",
       "      <th>class</th>\n",
       "      <th>images</th>\n",
       "    </tr>\n",
       "  </thead>\n",
       "  <tbody>\n",
       "    <tr>\n",
       "      <th>0</th>\n",
       "      <td>1</td>\n",
       "      <td>3</td>\n",
       "      <td>0</td>\n",
       "      <td>[[0, 0, 0, 0, 0, 0, 0, 0, 0, 0, 0, 0, 0, 0, 0,...</td>\n",
       "    </tr>\n",
       "    <tr>\n",
       "      <th>1</th>\n",
       "      <td>1</td>\n",
       "      <td>3</td>\n",
       "      <td>0</td>\n",
       "      <td>[[0, 0, 0, 0, 0, 0, 0, 0, 0, 0, 0, 0, 0, 0, 0,...</td>\n",
       "    </tr>\n",
       "    <tr>\n",
       "      <th>2</th>\n",
       "      <td>1</td>\n",
       "      <td>3</td>\n",
       "      <td>0</td>\n",
       "      <td>[[0, 0, 0, 0, 0, 0, 0, 0, 0, 0, 0, 0, 0, 0, 0,...</td>\n",
       "    </tr>\n",
       "    <tr>\n",
       "      <th>3</th>\n",
       "      <td>1</td>\n",
       "      <td>3</td>\n",
       "      <td>0</td>\n",
       "      <td>[[0, 0, 0, 0, 0, 0, 0, 0, 0, 0, 0, 0, 0, 0, 0,...</td>\n",
       "    </tr>\n",
       "    <tr>\n",
       "      <th>4</th>\n",
       "      <td>1</td>\n",
       "      <td>3</td>\n",
       "      <td>0</td>\n",
       "      <td>[[0, 0, 0, 0, 0, 0, 0, 0, 0, 0, 0, 0, 0, 0, 0,...</td>\n",
       "    </tr>\n",
       "    <tr>\n",
       "      <th>...</th>\n",
       "      <td>...</td>\n",
       "      <td>...</td>\n",
       "      <td>...</td>\n",
       "      <td>...</td>\n",
       "    </tr>\n",
       "    <tr>\n",
       "      <th>545</th>\n",
       "      <td>55</td>\n",
       "      <td>20</td>\n",
       "      <td>1</td>\n",
       "      <td>[[0, 0, 0, 0, 0, 0, 0, 0, 0, 0, 0, 0, 0, 0, 0,...</td>\n",
       "    </tr>\n",
       "    <tr>\n",
       "      <th>546</th>\n",
       "      <td>55</td>\n",
       "      <td>20</td>\n",
       "      <td>1</td>\n",
       "      <td>[[0, 0, 0, 0, 0, 0, 0, 0, 0, 0, 0, 0, 0, 0, 0,...</td>\n",
       "    </tr>\n",
       "    <tr>\n",
       "      <th>547</th>\n",
       "      <td>55</td>\n",
       "      <td>20</td>\n",
       "      <td>1</td>\n",
       "      <td>[[0, 0, 0, 0, 0, 0, 0, 0, 0, 0, 0, 0, 0, 0, 0,...</td>\n",
       "    </tr>\n",
       "    <tr>\n",
       "      <th>548</th>\n",
       "      <td>55</td>\n",
       "      <td>20</td>\n",
       "      <td>1</td>\n",
       "      <td>[[0, 0, 0, 0, 0, 0, 0, 0, 0, 0, 0, 0, 0, 0, 0,...</td>\n",
       "    </tr>\n",
       "    <tr>\n",
       "      <th>549</th>\n",
       "      <td>55</td>\n",
       "      <td>20</td>\n",
       "      <td>1</td>\n",
       "      <td>[[0, 0, 0, 0, 0, 0, 0, 0, 0, 0, 0, 0, 0, 0, 0,...</td>\n",
       "    </tr>\n",
       "  </tbody>\n",
       "</table>\n",
       "<p>550 rows × 4 columns</p>\n",
       "</div>"
      ],
      "text/plain": [
       "     id  fat  class                                             images\n",
       "0     1    3      0  [[0, 0, 0, 0, 0, 0, 0, 0, 0, 0, 0, 0, 0, 0, 0,...\n",
       "1     1    3      0  [[0, 0, 0, 0, 0, 0, 0, 0, 0, 0, 0, 0, 0, 0, 0,...\n",
       "2     1    3      0  [[0, 0, 0, 0, 0, 0, 0, 0, 0, 0, 0, 0, 0, 0, 0,...\n",
       "3     1    3      0  [[0, 0, 0, 0, 0, 0, 0, 0, 0, 0, 0, 0, 0, 0, 0,...\n",
       "4     1    3      0  [[0, 0, 0, 0, 0, 0, 0, 0, 0, 0, 0, 0, 0, 0, 0,...\n",
       "..   ..  ...    ...                                                ...\n",
       "545  55   20      1  [[0, 0, 0, 0, 0, 0, 0, 0, 0, 0, 0, 0, 0, 0, 0,...\n",
       "546  55   20      1  [[0, 0, 0, 0, 0, 0, 0, 0, 0, 0, 0, 0, 0, 0, 0,...\n",
       "547  55   20      1  [[0, 0, 0, 0, 0, 0, 0, 0, 0, 0, 0, 0, 0, 0, 0,...\n",
       "548  55   20      1  [[0, 0, 0, 0, 0, 0, 0, 0, 0, 0, 0, 0, 0, 0, 0,...\n",
       "549  55   20      1  [[0, 0, 0, 0, 0, 0, 0, 0, 0, 0, 0, 0, 0, 0, 0,...\n",
       "\n",
       "[550 rows x 4 columns]"
      ]
     },
     "execution_count": 42,
     "metadata": {},
     "output_type": "execute_result"
    }
   ],
   "source": [
    "df"
   ]
  },
  {
   "cell_type": "code",
   "execution_count": 43,
   "metadata": {},
   "outputs": [
    {
     "data": {
      "text/plain": [
       "(230, 295)"
      ]
     },
     "execution_count": 43,
     "metadata": {},
     "output_type": "execute_result"
    }
   ],
   "source": [
    "df[\"images\"][0].shape"
   ]
  },
  {
   "cell_type": "code",
   "execution_count": 111,
   "metadata": {},
   "outputs": [],
   "source": [
    "from skimage.feature import graycomatrix, graycoprops\n",
    "\n",
    "\n",
    "# Define function to compute GLCM features for a single image\n",
    "def compute_glcm_features(image):\n",
    "    distances = [1, 2, 3]  # Define distances for GLCM computation\n",
    "    angles = [\n",
    "        0,\n",
    "        np.pi / 4,\n",
    "        np.pi / 2,\n",
    "        3 * np.pi / 4,\n",
    "    ]  # Define angles for GLCM computation\n",
    "    glcm = graycomatrix(\n",
    "        image, distances=distances, angles=angles, symmetric=True, normed=True\n",
    "    )\n",
    "\n",
    "    # Compute GLCM properties\n",
    "    contrast = graycoprops(glcm, \"contrast\").ravel()\n",
    "    energy = graycoprops(glcm, \"energy\").ravel()\n",
    "    homogeneity = graycoprops(glcm, \"homogeneity\").ravel()\n",
    "    correlation = graycoprops(glcm, \"correlation\").ravel()\n",
    "\n",
    "    # Concatenate GLCM features\n",
    "    glcm_features = np.concatenate([contrast, energy, homogeneity, correlation])\n",
    "    return glcm_features"
   ]
  },
  {
   "cell_type": "code",
   "execution_count": 112,
   "metadata": {},
   "outputs": [],
   "source": [
    "import numpy as np\n",
    "\n",
    "images = df[\"images\"].values\n",
    "\n",
    "# Compute GLCM features for each image\n",
    "glcm_features = [compute_glcm_features(image) for image in images]\n",
    "\n",
    "# Concatenate GLCM features into a feature matrix\n",
    "feature_matrix = np.array(glcm_features)"
   ]
  },
  {
   "cell_type": "code",
   "execution_count": 113,
   "metadata": {},
   "outputs": [],
   "source": [
    "from sklearn.decomposition import PCA\n",
    "from sklearn.preprocessing import StandardScaler\n",
    "\n",
    "# Preprocess the feature matrix (scaling)\n",
    "scaler = StandardScaler()\n",
    "scaled_features = scaler.fit_transform(feature_matrix)\n",
    "\n",
    "# Apply PCA for dimensionality reduction\n",
    "num_components = 10  # Choose the number of principal components\n",
    "pca = PCA(n_components=num_components)\n",
    "pca_features = pca.fit_transform(scaled_features)"
   ]
  },
  {
   "cell_type": "code",
   "execution_count": 114,
   "metadata": {},
   "outputs": [
    {
     "name": "stdout",
     "output_type": "stream",
     "text": [
      "Explained Variance Ratio: [7.54429610e-01 1.98690538e-01 2.00738278e-02 1.51954106e-02\n",
      " 4.81342001e-03 1.93242329e-03 1.63288324e-03 1.27462337e-03\n",
      " 9.05226561e-04 4.52046093e-04]\n"
     ]
    }
   ],
   "source": [
    "print(\"Explained Variance Ratio:\", pca.explained_variance_ratio_)"
   ]
  },
  {
   "cell_type": "code",
   "execution_count": 119,
   "metadata": {},
   "outputs": [],
   "source": [
    "from sklearn.model_selection import train_test_split\n",
    "from sklearn.decomposition import PCA\n",
    "from sklearn.svm import SVC\n",
    "from sklearn.metrics import accuracy_score\n",
    "\n",
    "# X = np.vstack(df['images'].apply(lambda x: x.flatten()))\n",
    "y = df[[\"class\"]]\n",
    "# Step 1: Split Data\n",
    "# X_train, X_test, y_train, y_test = train_test_split(X, y, test_size=0.2, random_state=42)\n",
    "X_train, X_test, y_train, y_test = train_test_split(\n",
    "    feature_matrix, y, test_size=0.2, random_state=42\n",
    ")"
   ]
  },
  {
   "cell_type": "code",
   "execution_count": 123,
   "metadata": {},
   "outputs": [],
   "source": [
    "scaler = StandardScaler()\n",
    "scaled_features = scaler.fit_transform(feature_matrix)\n",
    "\n",
    "# Step 2: Feature Transformation (PCA)\n",
    "pca = PCA(n_components=8)\n",
    "X_train_pca = pca.fit_transform(X_train)\n",
    "X_test_pca = pca.transform(X_test)\n",
    "# Convert column vector y to a 1D array\n",
    "y_train = np.ravel(y_train)\n",
    "y_test = np.ravel(y_test)"
   ]
  },
  {
   "cell_type": "code",
   "execution_count": 124,
   "metadata": {},
   "outputs": [
    {
     "name": "stdout",
     "output_type": "stream",
     "text": [
      "Accuracy: 0.7363636363636363\n"
     ]
    }
   ],
   "source": [
    "# Step 3: Train SVM classifier\n",
    "clf = SVC()\n",
    "clf.fit(X_train_pca, y_train)\n",
    "\n",
    "\n",
    "# Step 4: Predict and Evaluate\n",
    "y_pred = clf.predict(X_test_pca)\n",
    "accuracy = accuracy_score(y_test, y_pred)\n",
    "print(\"Accuracy:\", accuracy)"
   ]
  },
  {
   "cell_type": "markdown",
   "metadata": {},
   "source": [
    "pca with n\n",
    "|n|accuracy|\n",
    "|---|---|\n",
    "|300|0.772727272|\n",
    "|200|0.772727272|\n",
    "|100-120 |0.7818181|\n",
    "|80-95|0.772727272|\n"
   ]
  },
  {
   "cell_type": "code",
   "execution_count": 122,
   "metadata": {},
   "outputs": [
    {
     "data": {
      "image/png": "[encoded data removed]",
      "text/plain": [
       "<Figure size 640x480 with 2 Axes>"
      ]
     },
     "metadata": {},
     "output_type": "display_data"
    }
   ],
   "source": [
    "# Plot first image\n",
    "plt.subplot(1, 3, 1)\n",
    "plt.plot(np.cumsum(pca.explained_variance_ratio_))\n",
    "plt.xlabel(\"Number of Components\")\n",
    "plt.ylabel(\"Cumulative Explained Variance\")\n",
    "plt.title(\"Elbow Method\")\n",
    "plt.grid(True)\n",
    "\n",
    "# Method 2: Cumulative Variance\n",
    "plt.subplot(1, 3, 3)\n",
    "plt.plot(pca.explained_variance_ratio_)\n",
    "plt.xlabel(\"Number of Components\")\n",
    "plt.ylabel(\"Explained Variance Ratio\")\n",
    "plt.title(\"Explained Variance Ratio per Component\")\n",
    "plt.grid(True)"
   ]
  },
  {
   "cell_type": "code",
   "execution_count": null,
   "metadata": {},
   "outputs": [],
   "source": [
    "# import numpy as np\n",
    "# import matplotlib.pyplot as plt\n",
    "# from sklearn.model_selection import train_test_split\n",
    "# from sklearn.decomposition import PCA\n",
    "# from sklearn.svm import SVC\n",
    "# from sklearn.metrics import accuracy_score\n",
    "\n",
    "# # Initialize arrays to store the number of components and corresponding accuracies\n",
    "# n_components_list = []\n",
    "# accuracy_list = []\n",
    "# # Convert column vector y to a 1D array\n",
    "# y_train_ravel = np.ravel(y_train)\n",
    "# y_test_ravel = np.ravel(y_test)\n",
    "# clf = SVC()\n",
    "\n",
    "# # Loop through different numbers of components\n",
    "# for n_components in range(80, 300, 10):\n",
    "\n",
    "#     # Step 2: Feature Transformation (PCA)\n",
    "#     pca = PCA(n_components=n_components)\n",
    "#     X_train_pca = pca.fit_transform(X_train)\n",
    "#     X_test_pca = pca.transform(X_test)\n",
    "\n",
    "#     # Step 3: Train SVM classifier\n",
    "#     clf.fit(X_train_pca, y_train_ravel)\n",
    "\n",
    "#     # Step 4: Predict and Evaluate\n",
    "#     y_pred = clf.predict(X_test_pca)\n",
    "#     accuracy = accuracy_score(y_test_ravel, y_pred)\n",
    "\n",
    "#     # Store results\n",
    "#     n_components_list.append(n_components)\n",
    "#     accuracy_list.append(accuracy)\n",
    "#     print(n_components, accuracy)\n",
    "\n",
    "# # Plot n vs. accuracy graph\n",
    "# plt.figure(figsize=(10, 6))\n",
    "# plt.plot(n_components_list, accuracy_list, marker='o', linestyle='-')\n",
    "# plt.title('Number of PCA Components vs. Accuracy')\n",
    "# plt.xlabel('Number of PCA Components')\n",
    "# plt.ylabel('Accuracy')\n",
    "# plt.grid(True)\n",
    "# plt.show()"
   ]
  },
  {
   "cell_type": "code",
   "execution_count": 142,
   "metadata": {},
   "outputs": [
    {
     "name": "stdout",
     "output_type": "stream",
     "text": [
      "Mean Accuracy: 0.7655909491352528\n"
     ]
    },
    {
     "name": "stderr",
     "output_type": "stream",
     "text": [
      "c:\\Users\\LWARRIER\\AppData\\Local\\Programs\\Python\\Python311\\Lib\\site-packages\\sklearn\\utils\\validation.py:1229: DataConversionWarning: A column-vector y was passed when a 1d array was expected. Please change the shape of y to (n_samples, ), for example using ravel().\n",
      "  y = column_or_1d(y, warn=True)\n",
      "c:\\Users\\LWARRIER\\AppData\\Local\\Programs\\Python\\Python311\\Lib\\site-packages\\sklearn\\utils\\validation.py:1229: DataConversionWarning: A column-vector y was passed when a 1d array was expected. Please change the shape of y to (n_samples, ), for example using ravel().\n",
      "  y = column_or_1d(y, warn=True)\n",
      "c:\\Users\\LWARRIER\\AppData\\Local\\Programs\\Python\\Python311\\Lib\\site-packages\\sklearn\\utils\\validation.py:1229: DataConversionWarning: A column-vector y was passed when a 1d array was expected. Please change the shape of y to (n_samples, ), for example using ravel().\n",
      "  y = column_or_1d(y, warn=True)\n",
      "c:\\Users\\LWARRIER\\AppData\\Local\\Programs\\Python\\Python311\\Lib\\site-packages\\sklearn\\utils\\validation.py:1229: DataConversionWarning: A column-vector y was passed when a 1d array was expected. Please change the shape of y to (n_samples, ), for example using ravel().\n",
      "  y = column_or_1d(y, warn=True)\n",
      "c:\\Users\\LWARRIER\\AppData\\Local\\Programs\\Python\\Python311\\Lib\\site-packages\\sklearn\\utils\\validation.py:1229: DataConversionWarning: A column-vector y was passed when a 1d array was expected. Please change the shape of y to (n_samples, ), for example using ravel().\n",
      "  y = column_or_1d(y, warn=True)\n",
      "c:\\Users\\LWARRIER\\AppData\\Local\\Programs\\Python\\Python311\\Lib\\site-packages\\sklearn\\utils\\validation.py:1229: DataConversionWarning: A column-vector y was passed when a 1d array was expected. Please change the shape of y to (n_samples, ), for example using ravel().\n",
      "  y = column_or_1d(y, warn=True)\n",
      "c:\\Users\\LWARRIER\\AppData\\Local\\Programs\\Python\\Python311\\Lib\\site-packages\\sklearn\\utils\\validation.py:1229: DataConversionWarning: A column-vector y was passed when a 1d array was expected. Please change the shape of y to (n_samples, ), for example using ravel().\n",
      "  y = column_or_1d(y, warn=True)\n"
     ]
    }
   ],
   "source": [
    "from sklearn.model_selection import KFold\n",
    "from sklearn.decomposition import PCA\n",
    "from sklearn.svm import SVC\n",
    "from sklearn.metrics import accuracy_score\n",
    "\n",
    "# Define the number of folds for cross-validation\n",
    "num_folds = 7\n",
    "\n",
    "# Initialize a KFold object\n",
    "kf = KFold(n_splits=num_folds, shuffle=True, random_state=42)\n",
    "\n",
    "# scaler = StandardScaler()\n",
    "# scaled_features = scaler.fit_transform(feature_matrix)\n",
    "feature_matrix = scaled_features\n",
    "# Initialize a PCA object\n",
    "pca = PCA(n_components=11)\n",
    "\n",
    "# Initialize a Support Vector Machine classifier\n",
    "clf = SVC()\n",
    "\n",
    "# Initialize an array to store accuracy scores\n",
    "accuracy_scores = []\n",
    "y = df[[\"class\"]]\n",
    "\n",
    "# Perform cross-validation\n",
    "for train_index, test_index in kf.split(feature_matrix):\n",
    "    X_train, X_test = feature_matrix[train_index], feature_matrix[test_index]\n",
    "    y_train, y_test = y.iloc[train_index], y.iloc[test_index]\n",
    "\n",
    "    # Apply PCA to the training and test data\n",
    "    X_train_pca = pca.fit_transform(X_train)\n",
    "    X_test_pca = pca.transform(X_test)\n",
    "\n",
    "    # Train the classifier\n",
    "    clf.fit(X_train_pca, y_train)\n",
    "\n",
    "    # Make predictions\n",
    "    y_pred = clf.predict(X_test_pca)\n",
    "\n",
    "    # Calculate accuracy\n",
    "    accuracy = accuracy_score(y_test, y_pred)\n",
    "    accuracy_scores.append(accuracy)\n",
    "\n",
    "# Calculate the mean accuracy score across all folds\n",
    "mean_accuracy = np.mean(accuracy_scores)\n",
    "print(\"Mean Accuracy:\", mean_accuracy)"
   ]
  },
  {
   "cell_type": "code",
   "execution_count": 143,
   "metadata": {},
   "outputs": [
    {
     "data": {
      "text/plain": [
       "(0.7655909491352528,\n",
       " [0.7341772151898734,\n",
       "  0.7721518987341772,\n",
       "  0.7215189873417721,\n",
       "  0.759493670886076,\n",
       "  0.7692307692307693,\n",
       "  0.8205128205128205,\n",
       "  0.782051282051282])"
      ]
     },
     "execution_count": 143,
     "metadata": {},
     "output_type": "execute_result"
    }
   ],
   "source": [
    "mean_accuracy, accuracy_scores"
   ]
  },
  {
   "cell_type": "markdown",
   "metadata": {},
   "source": [
    "After 5-cross-validation, accuracy went from Accuracy: 0.7363636363636363 to 0.78, for n=10\n",
    "- Added standard scaler: 0.76181 😒\n",
    "\n",
    "7-fold cross-val: 0.765590 without scalers"
   ]
  },
  {
   "cell_type": "code",
   "execution_count": 97,
   "metadata": {},
   "outputs": [],
   "source": [
    "import pickle\n",
    "\n",
    "with open(\"svm_model.pkl\", \"wb\") as f:\n",
    "    pickle.dump(clf, f)"
   ]
  },
  {
   "cell_type": "code",
   "execution_count": 107,
   "metadata": {},
   "outputs": [
    {
     "name": "stdout",
     "output_type": "stream",
     "text": [
      "Mean Accuracy: 0.7454545454545455\n"
     ]
    },
    {
     "data": {
      "text/plain": [
       "['svm_model.pkl']"
      ]
     },
     "execution_count": 107,
     "metadata": {},
     "output_type": "execute_result"
    }
   ],
   "source": [
    "import numpy as np\n",
    "import pandas as pd\n",
    "from sklearn.model_selection import train_test_split, KFold\n",
    "from sklearn.decomposition import PCA\n",
    "from sklearn.svm import SVC\n",
    "from sklearn.metrics import accuracy_score\n",
    "import joblib  # for model persistence\n",
    "\n",
    "\n",
    "import numpy as np\n",
    "\n",
    "images = df[\"images\"].values\n",
    "\n",
    "# Compute GLCM features for each image\n",
    "glcm_features = [compute_glcm_features(image) for image in images]\n",
    "\n",
    "# Concatenate GLCM features into a feature matrix\n",
    "X = np.array(glcm_features)\n",
    "\n",
    "y = df[\"class\"]  # Target variable"
   ]
  },
  {
   "cell_type": "code",
   "execution_count": 110,
   "metadata": {},
   "outputs": [
    {
     "name": "stdout",
     "output_type": "stream",
     "text": [
      "Mean Accuracy: 0.78\n"
     ]
    },
    {
     "data": {
      "text/plain": [
       "['svm_model.pkl']"
      ]
     },
     "execution_count": 110,
     "metadata": {},
     "output_type": "execute_result"
    }
   ],
   "source": [
    "# Initialize PCA and SVM classifier\n",
    "pca = PCA(n_components=40)\n",
    "clf = SVC()\n",
    "\n",
    "# Initialize an array to store accuracy scores\n",
    "accuracy_scores = []\n",
    "\n",
    "# Define the number of folds for cross-validation\n",
    "num_folds = 5\n",
    "\n",
    "# Initialize a KFold object\n",
    "kf = KFold(n_splits=num_folds, shuffle=True, random_state=42)\n",
    "\n",
    "# Perform cross-validation\n",
    "for train_index, test_index in kf.split(X):\n",
    "    X_train, X_test = X[train_index], X[test_index]\n",
    "    y_train, y_test = y[train_index], y[test_index]\n",
    "\n",
    "    # Apply PCA to the training and test data\n",
    "    X_train_pca = pca.fit_transform(X_train)\n",
    "    X_test_pca = pca.transform(X_test)\n",
    "\n",
    "    # Train the classifier\n",
    "    clf.fit(X_train_pca, y_train)\n",
    "\n",
    "    # Make predictions\n",
    "    y_pred = clf.predict(X_test_pca)\n",
    "\n",
    "    # Calculate accuracy\n",
    "    accuracy = accuracy_score(y_test, y_pred)\n",
    "    accuracy_scores.append(accuracy)\n",
    "\n",
    "mean_accuracy = np.mean(accuracy_scores)\n",
    "print(\"Mean Accuracy:\", mean_accuracy)\n",
    "\n",
    "# Optionally, save the trained model\n",
    "joblib.dump(clf, \"svm_model.pkl\")"
   ]
  },
  {
   "cell_type": "code",
   "execution_count": null,
   "metadata": {},
   "outputs": [],
   "source": []
  }
 ],
 "metadata": {
  "kernelspec": {
   "display_name": "Python 3",
   "language": "python",
   "name": "python3"
  },
  "language_info": {
   "codemirror_mode": {
    "name": "ipython",
    "version": 3
   },
   "file_extension": ".py",
   "mimetype": "text/x-python",
   "name": "python",
   "nbconvert_exporter": "python",
   "pygments_lexer": "ipython3",
   "version": "3.11.8"
  }
 },
 "nbformat": 4,
 "nbformat_minor": 2
}
